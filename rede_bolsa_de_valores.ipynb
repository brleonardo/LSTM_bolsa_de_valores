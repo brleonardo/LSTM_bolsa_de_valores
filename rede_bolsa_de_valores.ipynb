{
 "cells": [
  {
   "cell_type": "code",
   "execution_count": null,
   "metadata": {},
   "outputs": [],
   "source": [
    "import yfinance as yf\n",
    "import numpy as np\n",
    "import pandas as pd\n",
    "from keras.models import Sequential, load_model\n",
    "from keras.layers import LSTM, Dense\n",
    "from keras.optimizers import Adam, SGD, RMSprop\n",
    "from sklearn.preprocessing import MinMaxScaler"
   ]
  },
  {
   "cell_type": "code",
   "execution_count": null,
   "metadata": {},
   "outputs": [],
   "source": [
    "# Define o ticker da ação usada para treinar e testar os modelos\n",
    "ticker = \"PETR4.SA\"\n",
    "\n",
    "# Baixa os preços históricos do Yahoo Finance\n",
    "data = yf.download(ticker, start=\"2010-01-01\", end=\"2022-12-31\")"
   ]
  },
  {
   "cell_type": "code",
   "execution_count": null,
   "metadata": {},
   "outputs": [],
   "source": [
    "# Preprocessa os dados\n",
    "scaler = MinMaxScaler(feature_range=(0, 1))\n",
    "data_scaled = scaler.fit_transform(data[\"Close\"].values.reshape(-1, 1))"
   ]
  },
  {
   "cell_type": "code",
   "execution_count": null,
   "metadata": {},
   "outputs": [],
   "source": [
    "# Divide os dados em grupos de treinamento e teste\n",
    "train_size = int(len(data_scaled) * 0.8)\n",
    "test_size = len(data_scaled) - train_size\n",
    "train_data = data_scaled[0:train_size, :]\n",
    "test_data = data_scaled[train_size:len(data_scaled), :]"
   ]
  },
  {
   "cell_type": "code",
   "execution_count": null,
   "metadata": {},
   "outputs": [],
   "source": [
    "# Função para criar os dados de entrada e saída da rede LSTM\n",
    "def create_dataset(dataset, time_steps=1):\n",
    "    dataX, dataY = [], []\n",
    "    for i in range(len(dataset) - time_steps - 1):\n",
    "        a = dataset[i:(i + time_steps), 0]\n",
    "        dataX.append(a)\n",
    "        dataY.append(dataset[i + time_steps, 0])\n",
    "\n",
    "    return np.array(dataX), np.array(dataY)"
   ]
  },
  {
   "cell_type": "code",
   "execution_count": null,
   "metadata": {},
   "outputs": [],
   "source": [
    "# Define o tamanho da janela de tempo para os dados de entrada\n",
    "time_steps = 5\n",
    "\n",
    "# Cria os dados de entrada e saída da LSTM com base na janela de tempo definida\n",
    "X_train, y_train = create_dataset(train_data, time_steps)\n",
    "X_test, y_test = create_dataset(test_data, time_steps)\n",
    "\n",
    "# Reformatar os dados de entrada para que sejam compatíveis com a LSTM\n",
    "X_train = np.reshape(X_train, (X_train.shape[0], X_train.shape[1], 1))\n",
    "X_test = np.reshape(X_test, (X_test.shape[0], X_test.shape[1], 1))"
   ]
  },
  {
   "cell_type": "code",
   "execution_count": null,
   "metadata": {},
   "outputs": [],
   "source": [
    "# Define os diferentes modelos a serem treinados\n",
    "\n",
    "models = []\n",
    "loss_functions = [\"mean_squared_error\", \"mean_absolute_error\", \"mean_squared_logarithmic_error\"]\n",
    "learning_rates = [0.1, 0.01, 0.001]\n",
    "optimizers = [\"adam\", \"sgd\", \"rmsprop\"]\n",
    "\n",
    "def get_optimizer(name: str, rate: float):\n",
    "    match name:\n",
    "        case 'adam':\n",
    "            return Adam(learning_rate=rate)\n",
    "        case 'sgd':\n",
    "            return SGD(learning_rate=rate)\n",
    "        case 'rmsprop':\n",
    "            return RMSprop(learning_rate=rate)\n",
    "\n",
    "for loss_func in loss_functions:\n",
    "    for rate in learning_rates:\n",
    "        for opt in optimizers:\n",
    "            model = Sequential()\n",
    "            model.add(LSTM(units=64, return_sequences=True, input_shape=(X_train.shape[1], 1)))\n",
    "            model.add(LSTM(units=128))\n",
    "            model.add(Dense(1))\n",
    "\n",
    "            model.compile(loss=loss_func, optimizer=get_optimizer(opt, rate), metrics=['mean_squared_error', 'mean_absolute_error', \"mean_squared_logarithmic_error\"])\n",
    "            models.append(model)"
   ]
  },
  {
   "cell_type": "code",
   "execution_count": null,
   "metadata": {},
   "outputs": [],
   "source": [
    "# Treinando os modelos\n",
    "histories = []\n",
    "epochs = [1, 1]\n",
    "batch_sizes = [16, 32, 64]\n",
    "\n",
    "model_configs = []\n",
    "\n",
    "for i, model in enumerate(models):\n",
    "    for epoch in epochs:\n",
    "        for size in batch_sizes:\n",
    "            history = model.fit(X_train, y_train, epochs=epoch, batch_size=size, validation_data=(X_test, y_test), verbose=1)\n",
    "            histories.append(history.history)\n",
    "    model_configs.append({'id': i,'batch_size': size, 'epochs': epoch, 'loss': loss_functions[i//9]})"
   ]
  },
  {
   "cell_type": "code",
   "execution_count": null,
   "metadata": {},
   "outputs": [],
   "source": [
    "# Resultado das métricas de treino\n",
    "for i, history in enumerate(histories):\n",
    "    print(f\"Train loss: {history['loss'][-1]:.4f}, Validation loss: {history['val_loss'][-1]:.4f}, Train MAE: {history['mean_absolute_error'][-1]:.4f}, Validation MAE: {history['val_mean_absolute_error'][-1]:.4f}, MSE: {history['mean_squared_error'][-1]:.4f}, Validation MSE: {history['val_mean_squared_error'][-1]:.4f}\")"
   ]
  },
  {
   "cell_type": "code",
   "execution_count": null,
   "metadata": {},
   "outputs": [],
   "source": [
    "# Predições com dados de teste\n",
    "predictions = []\n",
    "\n",
    "for model in models:\n",
    "    y_pred = model.predict(X_test)\n",
    "    y_pred = scaler.inverse_transform(y_pred)\n",
    "    predictions.append(y_pred)"
   ]
  },
  {
   "cell_type": "code",
   "execution_count": null,
   "metadata": {},
   "outputs": [],
   "source": [
    "for i, predicted_price in enumerate(predictions):\n",
    "    #Cria um dataframe com as datas e preços previstos e reais\n",
    "    dates = data.index[len(data.index)-len(predicted_price):]\n",
    "    \n",
    "    predicted_df = pd.DataFrame(predicted_price, index=dates, columns=[\"Predicted Price\"])\n",
    "    actual_df = pd.DataFrame(data[\"Close\"].values[len(data.index)-len(predicted_price):], index=dates, columns=[\"Actual Price\"])\n",
    "    result_df = pd.concat([actual_df, predicted_df], axis=1)\n",
    "\n",
    "    #Plota o gráfico com os preços previstos e reais\n",
    "    result_df.plot(figsize=(10,5),title=f\"Model {i+1}: loss function={loss_functions[i//9]}, \\nTrain loss: {histories[i]['loss'][-1]:.4f}, Validation loss: {histories[i]['val_loss'][-1]:.4f}, Train MAE: {histories[i]['mean_absolute_error'][-1]:.4f}, Validation MAE: {histories[i]['val_mean_absolute_error'][-1]:.4f}, MSE: {history['mean_squared_error'][-1]:.4f}, Validation MSE: {history['val_mean_squared_error'][-1]:.4f}\")"
   ]
  },
  {
   "cell_type": "code",
   "execution_count": null,
   "metadata": {},
   "outputs": [],
   "source": [
    "# Remover comentarios para salvar os modelos treinados\n",
    "\n",
    "# Salvando modelos\n",
    "# for i, model in enumerate(models):\n",
    "#     model.save(f\"models/model_{i+1}_{loss_functions[i//9]}.h5\")"
   ]
  },
  {
   "attachments": {},
   "cell_type": "markdown",
   "metadata": {},
   "source": [
    "# Usando modelos salvos"
   ]
  },
  {
   "cell_type": "code",
   "execution_count": null,
   "metadata": {},
   "outputs": [],
   "source": [
    "# Carregando os 27 modelos\n",
    "saved_models = []\n",
    "for i in range(27):\n",
    "    model = load_model(f\"models/model_{i+1}_{loss_functions[i//9]}.h5\")\n",
    "    saved_models.append(model)\n",
    "\n",
    "# Predição com os modelos carregados\n",
    "predictions = []\n",
    "for model in saved_models:\n",
    "    y_pred = model.predict(X_test)\n",
    "    y_pred = scaler.inverse_transform(y_pred)\n",
    "    predictions.append(y_pred)"
   ]
  },
  {
   "cell_type": "code",
   "execution_count": null,
   "metadata": {},
   "outputs": [],
   "source": [
    "for i, predicted_price in enumerate(predictions):\n",
    "    #Cria um dataframe com as datas e preços previstos e reais\n",
    "    dates = data.index[len(data.index)-len(predicted_price):]\n",
    "    \n",
    "    predicted_df = pd.DataFrame(predicted_price, index=dates, columns=[\"Predicted Price\"])\n",
    "    actual_df = pd.DataFrame(data[\"Close\"].values[len(data.index)-len(predicted_price):], index=dates, columns=[\"Actual Price\"])\n",
    "    result_df = pd.concat([actual_df, predicted_df], axis=1)\n",
    "\n",
    "    #Plota o gráfico com os preços previstos e reais\n",
    "    result_df.plot(figsize=(10,5),title=f\"Model {i+1}: loss function={loss_functions[i//9]}\")"
   ]
  },
  {
   "cell_type": "code",
   "execution_count": null,
   "metadata": {},
   "outputs": [],
   "source": [
    "# Obtendo as metricas de avaliação dos modelos\n",
    "histories = []\n",
    "for model in saved_models:\n",
    "    histories.append(model.evaluate(X_test, y_test))"
   ]
  },
  {
   "cell_type": "code",
   "execution_count": null,
   "metadata": {},
   "outputs": [],
   "source": [
    "for i, history in enumerate(histories):\n",
    "    print(f\"MODEL {i+1}: Validation Loss: {history[0]:.4f}, Validation MAE: {history[1]:.4f}, Validation MSLE: {history[2]:.4f}, Validation MSE: {history[3]:.4f}\")"
   ]
  },
  {
   "cell_type": "code",
   "execution_count": null,
   "metadata": {},
   "outputs": [],
   "source": [
    "# Encontrando o melhor modelo dentre os 27 treinados\n",
    "log_file = open(\"models/best_model.txt\",\"w\")\n",
    "\n",
    "best_history = sorted(histories)[0]\n",
    "best_model_index = 0\n",
    "for i, h in enumerate(histories):\n",
    "    if best_history == h:\n",
    "        log_file.write(f\"model_{i+1}_{loss_functions[i//9]}.h5\")\n",
    "        best_model_index = i\n",
    "\n",
    "log_file.close()\n",
    "print(f\"MODEL {best_model_index + 1}: Validation Loss: {best_history[0]:.4f}, Validation MAE: {best_history[1]:.4f}, Validation MSLE: {best_history[2]:.4f}, Validation MSE: {best_history[3]:.4f}\")\n",
    "print(f\"Best config: {model_configs[best_model_index]}\")\n",
    "print(f\"Optimizer: {saved_models[best_model_index].get_compile_config()['optimizer']['class_name']}\")\n",
    "print(f\"Learning rate: {saved_models[best_model_index].get_compile_config()['optimizer']['config']['learning_rate']:.3f}\")\n"
   ]
  },
  {
   "attachments": {},
   "cell_type": "markdown",
   "metadata": {},
   "source": [
    "# Usando as predições do melhor modelo"
   ]
  },
  {
   "cell_type": "code",
   "execution_count": null,
   "metadata": {},
   "outputs": [],
   "source": [
    "# Resultados Finais\n",
    "def show_results(profit_history, dates, title, graph):\n",
    "    final_profit = []\n",
    "    for i, profit in enumerate(profit_history):\n",
    "        if len(final_profit) > 0:\n",
    "            final_profit.append(final_profit[i-1] + profit)\n",
    "        else:\n",
    "            final_profit.append(profit)\n",
    "\n",
    "    # Plot final profit\n",
    "    results = pd.DataFrame(final_profit, index=dates, columns=[title])\n",
    "    if graph:\n",
    "        results.plot(figsize=(10,5),title=f\"Lucro: \" + title)\n",
    "    return results"
   ]
  },
  {
   "cell_type": "code",
   "execution_count": null,
   "metadata": {},
   "outputs": [],
   "source": [
    "# calculando lucro com a rede neural\n",
    "def calc_model_profit(dataset, predictions, initial_money, graph):\n",
    "    current_money = initial_money\n",
    "    quantity = 0\n",
    "\n",
    "    real_values = dataset[\"Close\"].values[len(dataset.index)-len(predictions):]\n",
    "    dates = dataset.index[len(dataset.index)-len(predictions):]\n",
    "\n",
    "    # Ganhos Finais\n",
    "    profit_history = []\n",
    "    for i, value in enumerate(real_values):\n",
    "        final_value = 0\n",
    "        if i-1 < 0:\n",
    "            profit_history.append(0)\n",
    "        else:\n",
    "            day_before_price = real_values[i-1] # Entrada\n",
    "            predicted_price = predictions[i].item() # Previsto\n",
    "\n",
    "            if day_before_price > predicted_price:\n",
    "                # Verificando se o preco previsto e menor que o real\n",
    "                if value > predicted_price and value < day_before_price:\n",
    "                    final_value = day_before_price - predicted_price\n",
    "                elif value > predicted_price and value > day_before_price:\n",
    "                    final_value = day_before_price - value\n",
    "            else:\n",
    "                # Verificando se o preco previsto e maior que o real\n",
    "                if value < predicted_price and value > day_before_price:\n",
    "                    final_value = value - day_before_price\n",
    "                else:\n",
    "                    final_value = predicted_price - day_before_price\n",
    "        \n",
    "            # Define quantidade de ações compradas no dia com o valor de capital\n",
    "            # Limitando a 100 ações para simular gerenciamento de risco\n",
    "            if quantity > 100:\n",
    "                quantity = 100\n",
    "            else:\n",
    "                quantity = current_money // day_before_price\n",
    "            # Multiplica o lucro real pela quantidade de ações compradas no dia\n",
    "            \n",
    "            profit = final_value * quantity\n",
    "            current_money += profit\n",
    "            profit_history.append(profit)\n",
    "\n",
    "    return show_results(profit_history, dates, 'Modelo 25', graph)"
   ]
  },
  {
   "cell_type": "code",
   "execution_count": null,
   "metadata": {},
   "outputs": [],
   "source": [
    "# Lucro do melhor modelo\n",
    "model_25_result = calc_model_profit(dataset=data, predictions=predictions[best_model_index], initial_money=500, graph=True)"
   ]
  },
  {
   "cell_type": "code",
   "execution_count": null,
   "metadata": {},
   "outputs": [],
   "source": [
    "def calc_technical_profit(dataset, predictions, initial_money, graph):\n",
    "    current_money = initial_money\n",
    "    quantity = 0\n",
    "\n",
    "    real_values = dataset[len(dataset.index)-len(predictions):]\n",
    "    dates = dataset.index[len(dataset.index)-len(predictions):]\n",
    "    \n",
    "    technical_profit_history = []\n",
    "    for i, open_value in enumerate(real_values[\"Open\"]):\n",
    "        if i-1 == -1:\n",
    "            day_before_price = open_value # Entrada\n",
    "        else:\n",
    "            day_before_price = real_values[\"Close\"][i-1] # Entrada\n",
    "            today_close = real_values[\"Close\"][i] # Fechamento hoje\n",
    "        \n",
    "        # Define quantidade de ações compradas no dia com o valor de capital\n",
    "        # Limitando a 100 ações para simular gerenciamento de risco\n",
    "        if quantity > 100:\n",
    "                quantity = current_money // day_before_price\n",
    "        else:\n",
    "            quantity = 100\n",
    "\n",
    "        final_value = 0\n",
    "        if open_value < day_before_price:\n",
    "            final_value = today_close - open_value\n",
    "        elif open_value > day_before_price:\n",
    "            final_value = open_value - today_close\n",
    "\n",
    "        profit = final_value * quantity\n",
    "        current_money += profit\n",
    "        technical_profit_history.append(profit)\n",
    "\n",
    "    return show_results(technical_profit_history, dates, 'Análise Técnica', graph)"
   ]
  },
  {
   "cell_type": "code",
   "execution_count": null,
   "metadata": {},
   "outputs": [],
   "source": [
    "technical_result = calc_technical_profit(dataset=data, predictions=predictions[best_model_index], initial_money=500, graph=True)"
   ]
  },
  {
   "cell_type": "code",
   "execution_count": null,
   "metadata": {},
   "outputs": [],
   "source": [
    "result = pd.concat([technical_result, model_25_result], axis=1)\n",
    "result.plot(figsize=(10,5),title=f\"Lucro: {ticker}\", xlabel=\"Data\", ylabel=\"Lucro(R$)\")"
   ]
  },
  {
   "cell_type": "code",
   "execution_count": null,
   "metadata": {},
   "outputs": [],
   "source": [
    "# Define o ticker da ação usada para treinar e testar os modelos\n",
    "tickers = ['ITUB4.SA', 'FLRY3.SA']\n",
    "\n",
    "for ticker in tickers:\n",
    "    # Baixa os preços históricos do Yahoo Finance\n",
    "    data = yf.download(ticker, start=\"2010-01-01\", end=\"2022-12-31\")\n",
    "\n",
    "    # Preprocessa os dados\n",
    "    scaler = MinMaxScaler(feature_range=(0, 1))\n",
    "    data_scaled = scaler.fit_transform(data[\"Close\"].values.reshape(-1, 1))\n",
    "\n",
    "    train_size = int(len(data_scaled) * 0.8)\n",
    "    test_size = len(data_scaled) - train_size\n",
    "    train_data = data_scaled[0:train_size, :]\n",
    "    test_data = data_scaled[train_size:len(data_scaled), :]\n",
    "\n",
    "    # Define o tamanho da janela de tempo para os dados de entrada\n",
    "    time_steps = 5\n",
    "\n",
    "    # Cria os dados de entrada e saída da LSTM com base na janela de tempo definida\n",
    "    X_train, y_train = create_dataset(train_data, time_steps)\n",
    "    X_test, y_test = create_dataset(test_data, time_steps)\n",
    "\n",
    "    # Reformatar os dados de entrada para que sejam compatíveis com a LSTM\n",
    "    X_train = np.reshape(X_train, (X_train.shape[0], X_train.shape[1], 1))\n",
    "    X_test = np.reshape(X_test, (X_test.shape[0], X_test.shape[1], 1))\n",
    "\n",
    "    # Predict\n",
    "    y_pred = model.predict(X_test)\n",
    "    predictions = scaler.inverse_transform(y_pred)\n",
    "\n",
    "    dates = data.index[len(data.index)-len(predictions):]\n",
    "\n",
    "    predicted_df = pd.DataFrame(predictions, index=dates, columns=[\"Preço Previsto\"])\n",
    "    actual_df = pd.DataFrame(data[\"Close\"].values[len(data.index)-len(predictions):], index=dates, columns=[\"Preço real\"])\n",
    "    result_df = pd.concat([actual_df, predicted_df], axis=1)\n",
    "\n",
    "    # Plota o gráfico com os preços previstos e reais\n",
    "    result_df.plot(figsize=(10,5),title=f\"Modelo {25} - {ticker}\", xlabel=\"Data\", ylabel=\"Preço(R$)\")\n",
    "\n",
    "    # Model 25 result\n",
    "    model_25_result = calc_model_profit(dataset=data, predictions=predictions, initial_money=500, graph=False)\n",
    "    # Technical result\n",
    "    technical_result = calc_technical_profit(dataset=data, predictions=predictions, initial_money=500, graph=False)\n",
    "\n",
    "    result = pd.concat([technical_result, model_25_result], axis=1)\n",
    "    result.plot(figsize=(10,5),title=f\"Lucro: {ticker}\", xlabel=\"Data\", ylabel=\"Lucro(R$)\")"
   ]
  }
 ],
 "metadata": {
  "kernelspec": {
   "display_name": ".venv",
   "language": "python",
   "name": "python3"
  },
  "language_info": {
   "codemirror_mode": {
    "name": "ipython",
    "version": 3
   },
   "file_extension": ".py",
   "mimetype": "text/x-python",
   "name": "python",
   "nbconvert_exporter": "python",
   "pygments_lexer": "ipython3",
   "version": "3.11.2 (main, Feb  8 2023, 00:00:00) [GCC 12.2.1 20221121 (Red Hat 12.2.1-4)]"
  },
  "orig_nbformat": 4,
  "vscode": {
   "interpreter": {
    "hash": "f79c62e5150cf08502539ee1215650b3a360c1568a107f0133619f2a1c3996fa"
   }
  }
 },
 "nbformat": 4,
 "nbformat_minor": 2
}
